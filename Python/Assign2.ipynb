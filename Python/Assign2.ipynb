{
  "cells": [
    {
      "cell_type": "markdown",
      "metadata": {
        "id": "O3QPcSM6gsXo"
      },
      "source": [
        "# 문제1"
      ]
    },
    {
      "cell_type": "code",
      "execution_count": null,
      "metadata": {
        "id": "gb6W803-XpPO"
      },
      "outputs": [],
      "source": [
        "import requests\n",
        "import json\n",
        "import pandas as pd\n",
        "from bs4 import BeautifulSoup\n",
        "\n",
        "key = \"#################\"\n",
        "url = \"http://kobis.or.kr/kobisopenapi/webservice/rest/movie/searchMovieList.json?key=\" + key\n",
        "\n",
        "response = requests.get(url, {\"directorNm\":\"봉준호\"})\n",
        "result = response.text\n",
        "data = json.loads(result)\n"
      ]
    },
    {
      "cell_type": "code",
      "execution_count": null,
      "metadata": {
        "colab": {
          "base_uri": "https://localhost:8080/"
        },
        "id": "VT7-HoRJaCjZ",
        "outputId": "ded0c032-973a-42df-d560-d2af9dd839fd"
      },
      "outputs": [
        {
          "name": "stdout",
          "output_type": "stream",
          "text": [
            "[{'movieCd': '20072091', 'movieNm': '인플루엔자', 'movieNmEn': 'Influenza', 'prdtYear': '2004', 'openDt': '', 'typeNm': '단편', 'prdtStatNm': '기타', 'nationAlt': '한국', 'genreAlt': '드라마', 'repNationNm': '한국', 'repGenreNm': '드라마', 'directors': [{'peopleNm': '봉준호'}], 'companys': []}, {'movieCd': '20100457', 'movieNm': '지리멸렬', 'movieNmEn': 'Incoherence', 'prdtYear': '1994', 'openDt': '', 'typeNm': '단편', 'prdtStatNm': '기타', 'nationAlt': '한국', 'genreAlt': '코미디', 'repNationNm': '한국', 'repGenreNm': '코미디', 'directors': [{'peopleNm': '봉준호'}], 'companys': [{'companyCd': '20100572', 'companyNm': '한국영화아카데미'}]}, {'movieCd': '20149067', 'movieNm': '백색인', 'movieNmEn': 'White Collar', 'prdtYear': '1994', 'openDt': '', 'typeNm': '단편', 'prdtStatNm': '기타', 'nationAlt': '한국', 'genreAlt': '기타', 'repNationNm': '한국', 'repGenreNm': '기타', 'directors': [{'peopleNm': '봉준호'}], 'companys': []}, {'movieCd': '20183782', 'movieNm': '기생충', 'movieNmEn': 'PARASITE', 'prdtYear': '2019', 'openDt': '20190530', 'typeNm': '장편', 'prdtStatNm': '개봉', 'nationAlt': '한국', 'genreAlt': '드라마', 'repNationNm': '한국', 'repGenreNm': '드라마', 'directors': [{'peopleNm': '봉준호'}], 'companys': [{'companyCd': '20100558', 'companyNm': '(주)바른손이앤에이'}]}, {'movieCd': '20090248', 'movieNm': '마더', 'movieNmEn': 'Mother', 'prdtYear': '2009', 'openDt': '20090528', 'typeNm': '장편', 'prdtStatNm': '개봉', 'nationAlt': '한국', 'genreAlt': '드라마', 'repNationNm': '한국', 'repGenreNm': '드라마', 'directors': [{'peopleNm': '봉준호'}], 'companys': [{'companyCd': '20100558', 'companyNm': '(주)바른손이앤에이'}]}, {'movieCd': '20030046', 'movieNm': '살인의 추억', 'movieNmEn': 'Memories of Murder', 'prdtYear': '2003', 'openDt': '20030425', 'typeNm': '장편', 'prdtStatNm': '개봉', 'nationAlt': '한국', 'genreAlt': '스릴러', 'repNationNm': '한국', 'repGenreNm': '스릴러', 'directors': [{'peopleNm': '봉준호'}], 'companys': [{'companyCd': '20100123', 'companyNm': '(주)싸이더스'}]}, {'movieCd': '20060151', 'movieNm': '괴물', 'movieNmEn': 'The Host', 'prdtYear': '2006', 'openDt': '20060727', 'typeNm': '장편', 'prdtStatNm': '개봉', 'nationAlt': '한국', 'genreAlt': 'SF,가족,드라마', 'repNationNm': '한국', 'repGenreNm': 'SF', 'directors': [{'peopleNm': '봉준호'}], 'companys': [{'companyCd': '20100202', 'companyNm': '영화사청어람(주)'}]}, {'movieCd': '20126674', 'movieNm': '설국열차', 'movieNmEn': 'Snowpiercer', 'prdtYear': '2013', 'openDt': '20130801', 'typeNm': '장편', 'prdtStatNm': '개봉', 'nationAlt': '한국,체코', 'genreAlt': 'SF,액션', 'repNationNm': '한국', 'repGenreNm': 'SF', 'directors': [{'peopleNm': '봉준호'}], 'companys': [{'companyCd': '20100357', 'companyNm': '(주)모호필름'}, {'companyCd': '20100410', 'companyNm': '오퍼스픽쳐스(유)'}]}, {'movieCd': '20158485', 'movieNm': '옥자', 'movieNmEn': 'Okja', 'prdtYear': '2017', 'openDt': '20170629', 'typeNm': '장편', 'prdtStatNm': '개봉', 'nationAlt': '미국', 'genreAlt': '어드벤처,액션,드라마', 'repNationNm': '미국', 'repGenreNm': '어드벤처', 'directors': [{'peopleNm': '봉준호'}], 'companys': [{'companyCd': '20104492', 'companyNm': '플랜 비 엔터테인먼트'}, {'companyCd': '20156868', 'companyNm': '(주)루이스 픽쳐스'}]}, {'movieCd': '20000024', 'movieNm': '플란다스의 개', 'movieNmEn': 'Barking Dogs Never Bite', 'prdtYear': '2000', 'openDt': '20000219', 'typeNm': '장편', 'prdtStatNm': '개봉', 'nationAlt': '한국', 'genreAlt': '드라마,코미디', 'repNationNm': '한국', 'repGenreNm': '드라마', 'directors': [{'peopleNm': '봉준호'}], 'companys': [{'companyCd': '20100730', 'companyNm': '우노필름'}]}]\n"
          ]
        }
      ],
      "source": [
        "for _, values in data.items():\n",
        "    movieList = values[\"movieList\"]\n",
        "# movieList: 딕셔너리 리스트"
      ]
    },
    {
      "cell_type": "code",
      "execution_count": null,
      "metadata": {
        "colab": {
          "base_uri": "https://localhost:8080/"
        },
        "id": "PcpWB6nXeBoD",
        "outputId": "126864ac-f2be-4c92-f692-5c1d61d6587e"
      },
      "outputs": [
        {
          "data": {
            "text/plain": [
              "[{'companys': [{'companyCd': '20100572', 'companyNm': '한국영화아카데미'}],\n",
              "  'directors': [{'peopleNm': '봉준호'}],\n",
              "  'genreAlt': '코미디',\n",
              "  'movieCd': '20100457',\n",
              "  'movieNm': '지리멸렬',\n",
              "  'movieNmEn': 'Incoherence',\n",
              "  'nationAlt': '한국',\n",
              "  'openDt': '',\n",
              "  'prdtStatNm': '기타',\n",
              "  'prdtYear': '1994',\n",
              "  'repGenreNm': '코미디',\n",
              "  'repNationNm': '한국',\n",
              "  'typeNm': '단편'},\n",
              " {'companys': [],\n",
              "  'directors': [{'peopleNm': '봉준호'}],\n",
              "  'genreAlt': '기타',\n",
              "  'movieCd': '20149067',\n",
              "  'movieNm': '백색인',\n",
              "  'movieNmEn': 'White Collar',\n",
              "  'nationAlt': '한국',\n",
              "  'openDt': '',\n",
              "  'prdtStatNm': '기타',\n",
              "  'prdtYear': '1994',\n",
              "  'repGenreNm': '기타',\n",
              "  'repNationNm': '한국',\n",
              "  'typeNm': '단편'},\n",
              " {'companys': [{'companyCd': '20100730', 'companyNm': '우노필름'}],\n",
              "  'directors': [{'peopleNm': '봉준호'}],\n",
              "  'genreAlt': '드라마,코미디',\n",
              "  'movieCd': '20000024',\n",
              "  'movieNm': '플란다스의 개',\n",
              "  'movieNmEn': 'Barking Dogs Never Bite',\n",
              "  'nationAlt': '한국',\n",
              "  'openDt': '20000219',\n",
              "  'prdtStatNm': '개봉',\n",
              "  'prdtYear': '2000',\n",
              "  'repGenreNm': '드라마',\n",
              "  'repNationNm': '한국',\n",
              "  'typeNm': '장편'},\n",
              " {'companys': [{'companyCd': '20100123', 'companyNm': '(주)싸이더스'}],\n",
              "  'directors': [{'peopleNm': '봉준호'}],\n",
              "  'genreAlt': '스릴러',\n",
              "  'movieCd': '20030046',\n",
              "  'movieNm': '살인의 추억',\n",
              "  'movieNmEn': 'Memories of Murder',\n",
              "  'nationAlt': '한국',\n",
              "  'openDt': '20030425',\n",
              "  'prdtStatNm': '개봉',\n",
              "  'prdtYear': '2003',\n",
              "  'repGenreNm': '스릴러',\n",
              "  'repNationNm': '한국',\n",
              "  'typeNm': '장편'},\n",
              " {'companys': [],\n",
              "  'directors': [{'peopleNm': '봉준호'}],\n",
              "  'genreAlt': '드라마',\n",
              "  'movieCd': '20072091',\n",
              "  'movieNm': '인플루엔자',\n",
              "  'movieNmEn': 'Influenza',\n",
              "  'nationAlt': '한국',\n",
              "  'openDt': '',\n",
              "  'prdtStatNm': '기타',\n",
              "  'prdtYear': '2004',\n",
              "  'repGenreNm': '드라마',\n",
              "  'repNationNm': '한국',\n",
              "  'typeNm': '단편'},\n",
              " {'companys': [{'companyCd': '20100202', 'companyNm': '영화사청어람(주)'}],\n",
              "  'directors': [{'peopleNm': '봉준호'}],\n",
              "  'genreAlt': 'SF,가족,드라마',\n",
              "  'movieCd': '20060151',\n",
              "  'movieNm': '괴물',\n",
              "  'movieNmEn': 'The Host',\n",
              "  'nationAlt': '한국',\n",
              "  'openDt': '20060727',\n",
              "  'prdtStatNm': '개봉',\n",
              "  'prdtYear': '2006',\n",
              "  'repGenreNm': 'SF',\n",
              "  'repNationNm': '한국',\n",
              "  'typeNm': '장편'},\n",
              " {'companys': [{'companyCd': '20100558', 'companyNm': '(주)바른손이앤에이'}],\n",
              "  'directors': [{'peopleNm': '봉준호'}],\n",
              "  'genreAlt': '드라마',\n",
              "  'movieCd': '20090248',\n",
              "  'movieNm': '마더',\n",
              "  'movieNmEn': 'Mother',\n",
              "  'nationAlt': '한국',\n",
              "  'openDt': '20090528',\n",
              "  'prdtStatNm': '개봉',\n",
              "  'prdtYear': '2009',\n",
              "  'repGenreNm': '드라마',\n",
              "  'repNationNm': '한국',\n",
              "  'typeNm': '장편'},\n",
              " {'companys': [{'companyCd': '20100357', 'companyNm': '(주)모호필름'},\n",
              "   {'companyCd': '20100410', 'companyNm': '오퍼스픽쳐스(유)'}],\n",
              "  'directors': [{'peopleNm': '봉준호'}],\n",
              "  'genreAlt': 'SF,액션',\n",
              "  'movieCd': '20126674',\n",
              "  'movieNm': '설국열차',\n",
              "  'movieNmEn': 'Snowpiercer',\n",
              "  'nationAlt': '한국,체코',\n",
              "  'openDt': '20130801',\n",
              "  'prdtStatNm': '개봉',\n",
              "  'prdtYear': '2013',\n",
              "  'repGenreNm': 'SF',\n",
              "  'repNationNm': '한국',\n",
              "  'typeNm': '장편'},\n",
              " {'companys': [{'companyCd': '20104492', 'companyNm': '플랜 비 엔터테인먼트'},\n",
              "   {'companyCd': '20156868', 'companyNm': '(주)루이스 픽쳐스'}],\n",
              "  'directors': [{'peopleNm': '봉준호'}],\n",
              "  'genreAlt': '어드벤처,액션,드라마',\n",
              "  'movieCd': '20158485',\n",
              "  'movieNm': '옥자',\n",
              "  'movieNmEn': 'Okja',\n",
              "  'nationAlt': '미국',\n",
              "  'openDt': '20170629',\n",
              "  'prdtStatNm': '개봉',\n",
              "  'prdtYear': '2017',\n",
              "  'repGenreNm': '어드벤처',\n",
              "  'repNationNm': '미국',\n",
              "  'typeNm': '장편'},\n",
              " {'companys': [{'companyCd': '20100558', 'companyNm': '(주)바른손이앤에이'}],\n",
              "  'directors': [{'peopleNm': '봉준호'}],\n",
              "  'genreAlt': '드라마',\n",
              "  'movieCd': '20183782',\n",
              "  'movieNm': '기생충',\n",
              "  'movieNmEn': 'PARASITE',\n",
              "  'nationAlt': '한국',\n",
              "  'openDt': '20190530',\n",
              "  'prdtStatNm': '개봉',\n",
              "  'prdtYear': '2019',\n",
              "  'repGenreNm': '드라마',\n",
              "  'repNationNm': '한국',\n",
              "  'typeNm': '장편'}]"
            ]
          },
          "execution_count": 34,
          "metadata": {},
          "output_type": "execute_result"
        }
      ],
      "source": [
        "sorted_movieList= sorted(movieList, key = lambda item: item['prdtYear'])\n",
        "sorted_movieList"
      ]
    },
    {
      "cell_type": "code",
      "execution_count": null,
      "metadata": {
        "colab": {
          "base_uri": "https://localhost:8080/"
        },
        "id": "ZJrHoYHGdNey",
        "outputId": "bae07899-128a-4bf4-8a4c-925c65b3cfd1"
      },
      "outputs": [
        {
          "name": "stdout",
          "output_type": "stream",
          "text": [
            "20100457 지리멸렬 Incoherence 1994  단편 기타 한국 코미디 한국 코미디 봉준호 한국영화아카데미 \n",
            "20149067 백색인 White Collar 1994  단편 기타 한국 기타 한국 기타 봉준호 [] \n",
            "20000024 플란다스의 개 Barking Dogs Never Bite 2000 20000219 장편 개봉 한국 드라마,코미디 한국 드라마 봉준호 우노필름 \n",
            "20030046 살인의 추억 Memories of Murder 2003 20030425 장편 개봉 한국 스릴러 한국 스릴러 봉준호 (주)싸이더스 \n",
            "20072091 인플루엔자 Influenza 2004  단편 기타 한국 드라마 한국 드라마 봉준호 [] \n",
            "20060151 괴물 The Host 2006 20060727 장편 개봉 한국 SF,가족,드라마 한국 SF 봉준호 영화사청어람(주) \n",
            "20090248 마더 Mother 2009 20090528 장편 개봉 한국 드라마 한국 드라마 봉준호 (주)바른손이앤에이 \n",
            "20126674 설국열차 Snowpiercer 2013 20130801 장편 개봉 한국,체코 SF,액션 한국 SF 봉준호 (주)모호필름 오퍼스픽쳐스(유) \n",
            "20158485 옥자 Okja 2017 20170629 장편 개봉 미국 어드벤처,액션,드라마 미국 어드벤처 봉준호 플랜 비 엔터테인먼트 (주)루이스 픽쳐스 \n",
            "20183782 기생충 PARASITE 2019 20190530 장편 개봉 한국 드라마 한국 드라마 봉준호 (주)바른손이앤에이 \n"
          ]
        }
      ],
      "source": [
        "for movie in sorted_movieList:\n",
        "    for key, value in movie.items():\n",
        "        if key == 'directors':\n",
        "            print(value[0]['peopleNm'], end=' ')\n",
        "            continue\n",
        "        if key =='companys' and len(value) > 0:\n",
        "            for i in value:\n",
        "                print(i['companyNm'], end=' ')\n",
        "            continue\n",
        "        print(value, end=\" \")\n",
        "    print()"
      ]
    },
    {
      "cell_type": "markdown",
      "metadata": {
        "id": "OklxT5K8g4Mn"
      },
      "source": [
        "#문제2\n"
      ]
    },
    {
      "cell_type": "code",
      "execution_count": null,
      "metadata": {
        "id": "Dxfg7zwTg3xm"
      },
      "outputs": [],
      "source": [
        "import requests\n",
        "import json\n",
        "from bs4 import BeautifulSoup\n",
        "\n",
        "key = \"#####################\"\n",
        "url = \"http://kobis.or.kr/kobisopenapi/webservice/rest/boxoffice/searchDailyBoxOfficeList.json?key=\" + key\n",
        "\n",
        "year = '2018'\n",
        "months = ['0'+str(x) if x < 10 else str(x) for x in range(1,13)]\n",
        "days = ['0'+str(x) if x < 10 else str(x) for x in range(1,29)]\n",
        "\n",
        "movieData = []\n",
        "for month in months:\n",
        "    for day in days:\n",
        "        response = requests.get(url + '&targetDt=' + year + month + day)\n",
        "        result = response.text\n",
        "        movieData.append(json.loads(result))\n"
      ]
    },
    {
      "cell_type": "code",
      "execution_count": null,
      "metadata": {
        "colab": {
          "base_uri": "https://localhost:8080/"
        },
        "id": "jMFuxG_wkBpX",
        "outputId": "e32f86ff-5e33-4300-f175-2d6856103e96"
      },
      "outputs": [
        {
          "data": {
            "text/plain": [
              "{'boxOfficeResult': {'boxofficeType': '일별 박스오피스',\n",
              "  'dailyBoxOfficeList': [{'audiAcc': '9966473',\n",
              "    'audiChange': '-26.6',\n",
              "    'audiCnt': '215987',\n",
              "    'audiInten': '-78352',\n",
              "    'movieCd': '20150976',\n",
              "    'movieNm': '신과함께-죄와 벌',\n",
              "    'openDt': '2017-12-20',\n",
              "    'rank': '1',\n",
              "    'rankInten': '0',\n",
              "    'rankOldAndNew': 'OLD',\n",
              "    'rnum': '1',\n",
              "    'salesAcc': '79893706032',\n",
              "    'salesAmt': '1622619700',\n",
              "    'salesChange': '-26.4',\n",
              "    'salesInten': '-582821100',\n",
              "    'salesShare': '32.9',\n",
              "    'scrnCnt': '1241',\n",
              "    'showCnt': '5724'},\n",
              "   {'audiAcc': '2865772',\n",
              "    'audiChange': '-19.5',\n",
              "    'audiCnt': '174979',\n",
              "    'audiInten': '-42268',\n",
              "    'movieCd': '20170590',\n",
              "    'movieNm': '1987',\n",
              "    'openDt': '2017-12-27',\n",
              "    'rank': '2',\n",
              "    'rankInten': '0',\n",
              "    'rankOldAndNew': 'OLD',\n",
              "    'rnum': '2',\n",
              "    'salesAcc': '22687239737',\n",
              "    'salesAmt': '1329337000',\n",
              "    'salesChange': '-19.1',\n",
              "    'salesInten': '-314099600',\n",
              "    'salesShare': '26.9',\n",
              "    'scrnCnt': '964',\n",
              "    'showCnt': '4231'},\n",
              "   {'audiAcc': '127355',\n",
              "    'audiChange': '100',\n",
              "    'audiCnt': '124781',\n",
              "    'audiInten': '124781',\n",
              "    'movieCd': '20171909',\n",
              "    'movieNm': '쥬만지: 새로운 세계',\n",
              "    'openDt': '2018-01-03',\n",
              "    'rank': '3',\n",
              "    'rankInten': '0',\n",
              "    'rankOldAndNew': 'NEW',\n",
              "    'rnum': '3',\n",
              "    'salesAcc': '967150400',\n",
              "    'salesAmt': '946055400',\n",
              "    'salesChange': '100',\n",
              "    'salesInten': '946055400',\n",
              "    'salesShare': '19.2',\n",
              "    'scrnCnt': '724',\n",
              "    'showCnt': '3110'},\n",
              "   {'audiAcc': '57299',\n",
              "    'audiChange': '100',\n",
              "    'audiCnt': '55641',\n",
              "    'audiInten': '55641',\n",
              "    'movieCd': '20177104',\n",
              "    'movieNm': '페르디난드',\n",
              "    'openDt': '2018-01-03',\n",
              "    'rank': '4',\n",
              "    'rankInten': '0',\n",
              "    'rankOldAndNew': 'NEW',\n",
              "    'rnum': '4',\n",
              "    'salesAcc': '389865000',\n",
              "    'salesAmt': '377615000',\n",
              "    'salesChange': '100',\n",
              "    'salesInten': '377615000',\n",
              "    'salesShare': '7.7',\n",
              "    'scrnCnt': '496',\n",
              "    'showCnt': '956'},\n",
              "   {'audiAcc': '4205309',\n",
              "    'audiChange': '-40.6',\n",
              "    'audiCnt': '28596',\n",
              "    'audiInten': '-19526',\n",
              "    'movieCd': '20170402',\n",
              "    'movieNm': '강철비',\n",
              "    'openDt': '2017-12-14',\n",
              "    'rank': '5',\n",
              "    'rankInten': '-2',\n",
              "    'rankOldAndNew': 'OLD',\n",
              "    'rnum': '5',\n",
              "    'salesAcc': '33513333066',\n",
              "    'salesAmt': '216057300',\n",
              "    'salesChange': '-39.7',\n",
              "    'salesInten': '-142092300',\n",
              "    'salesShare': '4.4',\n",
              "    'scrnCnt': '518',\n",
              "    'showCnt': '1225'},\n",
              "   {'audiAcc': '935683',\n",
              "    'audiChange': '-26.5',\n",
              "    'audiCnt': '25851',\n",
              "    'audiInten': '-9326',\n",
              "    'movieCd': '20179462',\n",
              "    'movieNm': '위대한 쇼맨',\n",
              "    'openDt': '2017-12-20',\n",
              "    'rank': '6',\n",
              "    'rankInten': '-2',\n",
              "    'rankOldAndNew': 'OLD',\n",
              "    'rnum': '6',\n",
              "    'salesAcc': '7633666300',\n",
              "    'salesAmt': '197451900',\n",
              "    'salesChange': '-26.7',\n",
              "    'salesInten': '-71787600',\n",
              "    'salesShare': '4.0',\n",
              "    'scrnCnt': '366',\n",
              "    'showCnt': '833'},\n",
              "   {'audiAcc': '474339',\n",
              "    'audiChange': '-60.7',\n",
              "    'audiCnt': '7052',\n",
              "    'audiInten': '-10877',\n",
              "    'movieCd': '20174965',\n",
              "    'movieNm': '극장판 포켓몬스터 너로 정했다!',\n",
              "    'openDt': '2017-12-21',\n",
              "    'rank': '7',\n",
              "    'rankInten': '-2',\n",
              "    'rankOldAndNew': 'OLD',\n",
              "    'rnum': '7',\n",
              "    'salesAcc': '3552985500',\n",
              "    'salesAmt': '48771800',\n",
              "    'salesChange': '-60.6',\n",
              "    'salesInten': '-75025700',\n",
              "    'salesShare': '1.0',\n",
              "    'scrnCnt': '153',\n",
              "    'showCnt': '178'},\n",
              "   {'audiAcc': '116959',\n",
              "    'audiChange': '-60',\n",
              "    'audiCnt': '4560',\n",
              "    'audiInten': '-6837',\n",
              "    'movieCd': '20176947',\n",
              "    'movieNm': '원더',\n",
              "    'openDt': '2017-12-27',\n",
              "    'rank': '8',\n",
              "    'rankInten': '-1',\n",
              "    'rankOldAndNew': 'OLD',\n",
              "    'rnum': '8',\n",
              "    'salesAcc': '910094900',\n",
              "    'salesAmt': '33562000',\n",
              "    'salesChange': '-60.8',\n",
              "    'salesInten': '-52031600',\n",
              "    'salesShare': '0.7',\n",
              "    'scrnCnt': '128',\n",
              "    'showCnt': '258'},\n",
              "   {'audiAcc': '798717',\n",
              "    'audiChange': '-44.1',\n",
              "    'audiCnt': '4024',\n",
              "    'audiInten': '-3176',\n",
              "    'movieCd': '20174846',\n",
              "    'movieNm': '뽀로로 극장판 공룡섬 대모험',\n",
              "    'openDt': '2017-12-07',\n",
              "    'rank': '9',\n",
              "    'rankInten': '-1',\n",
              "    'rankOldAndNew': 'OLD',\n",
              "    'rnum': '9',\n",
              "    'salesAcc': '6035975700',\n",
              "    'salesAmt': '27520000',\n",
              "    'salesChange': '-45.4',\n",
              "    'salesInten': '-22839500',\n",
              "    'salesShare': '0.6',\n",
              "    'scrnCnt': '87',\n",
              "    'showCnt': '111'},\n",
              "   {'audiAcc': '384279',\n",
              "    'audiChange': '-72.7',\n",
              "    'audiCnt': '3466',\n",
              "    'audiInten': '-9212',\n",
              "    'movieCd': '20176082',\n",
              "    'movieNm': '몬스터 패밀리',\n",
              "    'openDt': '2017-12-21',\n",
              "    'rank': '10',\n",
              "    'rankInten': '-4',\n",
              "    'rankOldAndNew': 'OLD',\n",
              "    'rnum': '10',\n",
              "    'salesAcc': '2847029700',\n",
              "    'salesAmt': '23183700',\n",
              "    'salesChange': '-73.3',\n",
              "    'salesInten': '-63686300',\n",
              "    'salesShare': '0.5',\n",
              "    'scrnCnt': '98',\n",
              "    'showCnt': '105'}],\n",
              "  'showRange': '20180103~20180103'}}"
            ]
          },
          "execution_count": 83,
          "metadata": {},
          "output_type": "execute_result"
        }
      ],
      "source": [
        "movieData[2]"
      ]
    },
    {
      "cell_type": "markdown",
      "metadata": {
        "id": "n2-fV3FqnAIa"
      },
      "source": [
        "#문제3"
      ]
    },
    {
      "cell_type": "code",
      "execution_count": null,
      "metadata": {
        "colab": {
          "base_uri": "https://localhost:8080/"
        },
        "id": "YD2q9KcLnCsM",
        "outputId": "6df083c7-9f81-4e4c-f36f-9a46304f4cd4"
      },
      "outputs": [
        {
          "name": "stdout",
          "output_type": "stream",
          "text": [
            "<Response [406]>\n"
          ]
        }
      ],
      "source": [
        "import requests\n",
        "import json\n",
        "from bs4 import BeautifulSoup\n",
        "\n",
        "url = 'https://www.melon.com/chart/index.htm'\n",
        "response = requests.get(url)\n",
        "\n",
        "soup = BeautifulSoup(response.text,'html.parser')\n",
        "print(response)"
      ]
    }
  ],
  "metadata": {
    "colab": {
      "name": "Assign2.ipynb",
      "provenance": []
    },
    "kernelspec": {
      "display_name": "Python 3",
      "name": "python3"
    },
    "language_info": {
      "name": "python"
    }
  },
  "nbformat": 4,
  "nbformat_minor": 0
}
